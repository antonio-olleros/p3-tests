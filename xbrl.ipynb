{
 "cells": [
  {
   "cell_type": "code",
   "execution_count": 1,
   "id": "9d1208ff",
   "metadata": {},
   "outputs": [],
   "source": [
    "import xbrl_utils\n",
    "\n",
    "XBRL_INSTANCE_PATH = \"XBRL/km1-instance-example.xml\"\n",
    "\n",
    "instance_df = xbrl_utils.instance_to_df(XBRL_INSTANCE_PATH)\n"
   ]
  },
  {
   "cell_type": "code",
   "execution_count": 3,
   "id": "5f4277a3",
   "metadata": {},
   "outputs": [],
   "source": [
    "instance_df.to_csv(\"output/xbrl_df.csv\", index=False)"
   ]
  }
 ],
 "metadata": {
  "kernelspec": {
   "display_name": "xbrl-ccy76zlx-py3.12",
   "language": "python",
   "name": "python3"
  },
  "language_info": {
   "codemirror_mode": {
    "name": "ipython",
    "version": 3
   },
   "file_extension": ".py",
   "mimetype": "text/x-python",
   "name": "python",
   "nbconvert_exporter": "python",
   "pygments_lexer": "ipython3",
   "version": "3.12.3"
  }
 },
 "nbformat": 4,
 "nbformat_minor": 5
}
