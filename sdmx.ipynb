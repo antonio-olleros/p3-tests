{
 "cells": [
  {
   "cell_type": "code",
   "execution_count": null,
   "id": "f3ee85c9",
   "metadata": {},
   "outputs": [],
   "source": [
    "from pysdmx.io import get_datasets\n",
    "from pathlib import Path\n",
    "\n",
    "SDMX_PATH = Path.cwd() / \"SDMX\" \n",
    "\n",
    "METADATA_PATH = SDMX_PATH / \"km1_structures.xml\"\n",
    "\n",
    "DATA_XML_PATH = SDMX_PATH / \"km1_data_sdmx.xml\"\n",
    "DATA_CSV_PATH = SDMX_PATH / \"km1_data_sdmx.csv\"\n",
    "\n",
    "datasets = get_datasets(\n",
    "    data=DATA_CSV_PATH,\n",
    "    structure=METADATA_PATH\n",
    ")\n",
    "\n",
    "km1_df = datasets[0].data\n",
    "\n",
    "\n",
    "\n"
   ]
  },
  {
   "cell_type": "code",
   "execution_count": 11,
   "id": "440310aa",
   "metadata": {},
   "outputs": [],
   "source": [
    "km1_df.to_csv(\"output/sdmx_df.csv\", index=False)"
   ]
  }
 ],
 "metadata": {
  "kernelspec": {
   "display_name": "xbrl-ccy76zlx-py3.12",
   "language": "python",
   "name": "python3"
  },
  "language_info": {
   "codemirror_mode": {
    "name": "ipython",
    "version": 3
   },
   "file_extension": ".py",
   "mimetype": "text/x-python",
   "name": "python",
   "nbconvert_exporter": "python",
   "pygments_lexer": "ipython3",
   "version": "3.12.3"
  }
 },
 "nbformat": 4,
 "nbformat_minor": 5
}
