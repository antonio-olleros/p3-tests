{
 "cells": [
  {
   "cell_type": "code",
   "execution_count": 7,
   "id": "f3ee85c9",
   "metadata": {},
   "outputs": [],
   "source": [
    "from pysdmx.io import get_datasets\n",
    "from pathlib import Path\n",
    "\n",
    "SDMX_PATH = Path.cwd() / \"SDMX\" \n",
    "\n",
    "METADATA_PATH = SDMX_PATH / \"km1_structures.xml\"\n",
    "\n",
    "DATA_XML_PATH = SDMX_PATH / \"km1_data_sdmx.xml\"\n",
    "DATA_CSV_PATH = SDMX_PATH / \"km1_data_sdmx.csv\"\n",
    "\n",
    "datasets = get_datasets(\n",
    "    data=DATA_CSV_PATH,\n",
    "    structure=METADATA_PATH,\n",
    "    validate=False\n",
    ")\n",
    "\n",
    "km1_df = datasets[0].data\n",
    "\n",
    "\n",
    "\n"
   ]
  },
  {
   "cell_type": "code",
   "execution_count": null,
   "id": "440310aa",
   "metadata": {},
   "outputs": [
    {
     "name": "stdout",
     "output_type": "stream",
     "text": [
      "  FREQ                   LEI REGULATORY_DOMAIN MEASURE FRAMEWORK   TIER  \\\n",
      "0    Q  H7FNTJ4851HG0EXQ1Z70               AST     RWA        CU     _Z   \n",
      "1    Q  H7FNTJ4851HG0EXQ1Z70               AST     RWA        CU     _Z   \n",
      "2    Q  H7FNTJ4851HG0EXQ1Z70               CAP     CAP        CU   CET1   \n",
      "3    Q  H7FNTJ4851HG0EXQ1Z70               CAP     CAP        CU  TIER1   \n",
      "4    Q  H7FNTJ4851HG0EXQ1Z70               CAP     CAP        FL     _T   \n",
      "\n",
      "  OUTPUT_FLOOR CB_RESERVES_EX TIME_PERIOD VALUE_T OBS_VALUE_TM1 OBS_VALUE_TM2  \\\n",
      "0         POST             _Z     2025-Q1    14.0          14.0                 \n",
      "1          PRE             _Z     2025-Q1    14.0          15.0          16.0   \n",
      "2           _Z             _Z     2025-Q1    12.0          11.0                 \n",
      "3           _Z             _Z     2025-Q1    12.0                               \n",
      "4           _Z             _Z     2025-Q1    17.0          18.0          17.0   \n",
      "\n",
      "  OBS_VALUE_TM3 OBS_VALUE_TM4 UNIT  \n",
      "0                              USD  \n",
      "1                              USD  \n",
      "2                              USD  \n",
      "3                              USD  \n",
      "4          17.0          17.0  USD  \n"
     ]
    }
   ],
   "source": [
    "km1_df.to_csv(\"output/sdmx_df.csv\", index=False)"
   ]
  }
 ],
 "metadata": {
  "kernelspec": {
   "display_name": "xbrl-ccy76zlx-py3.12",
   "language": "python",
   "name": "python3"
  },
  "language_info": {
   "codemirror_mode": {
    "name": "ipython",
    "version": 3
   },
   "file_extension": ".py",
   "mimetype": "text/x-python",
   "name": "python",
   "nbconvert_exporter": "python",
   "pygments_lexer": "ipython3",
   "version": "3.12.3"
  }
 },
 "nbformat": 4,
 "nbformat_minor": 5
}
